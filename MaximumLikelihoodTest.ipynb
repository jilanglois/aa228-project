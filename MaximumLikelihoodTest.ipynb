{
 "cells": [
  {
   "cell_type": "code",
   "execution_count": null,
   "metadata": {
    "scrolled": false
   },
   "outputs": [],
   "source": [
    "import sys\n",
    "sys.path.append(\"../\")\n",
    "import numpy\n",
    "import pandas\n",
    "from src.profile import print_prof_data, clear_prof_data\n",
    "from src.local_level_model import LocalLevelModel\n",
    "\n",
    "sigma_eps2 = 0.2\n",
    "sigma_nu2 = 0.05 \n",
    "\n",
    "numpy.random.seed(1992)\n",
    "eps = numpy.random.normal(loc=0.0, scale=numpy.sqrt(sigma_eps2), size=200)\n",
    "nu = numpy.random.normal(loc=0.0, scale=numpy.sqrt(sigma_nu2), size=200)\n",
    "\n",
    "x = numpy.cumsum(nu)\n",
    "y = x + eps\n",
    "\n",
    "model = LocalLevelModel()\n",
    "\n",
    "model.set_data_train(pandas.Series(y))\n",
    "results = model.run_recursion(state0=0, state_variance0=1e5, sigma_eps2=sigma_eps2, sigma_nu2=sigma_nu2)\n",
    "results = model.smooth_states(results, sigma_eps2=sigma_eps2)\n",
    "model.plot_model(results, y, x)\n",
    "model.plot_model(results, y, x, True)"
   ]
  },
  {
   "cell_type": "code",
   "execution_count": null,
   "metadata": {},
   "outputs": [],
   "source": [
    "import plotly.express as px\n",
    "\n",
    "# state0, state_variance0 = model.get_diffuse_initial_state()\n",
    "# sigma_eps20 = 1\n",
    "# sigma_nu20 = 1\n",
    "\n",
    "# data = pandas.DataFrame([], columns=['sigma_eps2', 'sigma_nu2', 'w', 'logL'])\n",
    "# for w in numpy.arange(0,1.2,0.05):\n",
    "#     x = numpy.array([sigma_eps2*w + sigma_eps20*(1.-w), sigma_nu2*w + sigma_nu20*(1.-w)])\n",
    "#     l1 = model.log_likelihood(x)\n",
    "#     data = data.append({'sigma_eps2': x[0], 'sigma_nu2': x[1], 'w': w, 'logL': l1}, ignore_index=True)\n",
    "# data\n",
    "\n",
    "# fig = px.scatter(data, x='w', y='logL')\n",
    "# fig.show()"
   ]
  },
  {
   "cell_type": "code",
   "execution_count": null,
   "metadata": {},
   "outputs": [],
   "source": [
    "model.fit()\n",
    "print('%10s: %.2f' % ('sigma_eps2', model.sigma_eps2))\n",
    "print('%10s: %.2f' % ('sigma_nu2', model.sigma_nu2))"
   ]
  },
  {
   "cell_type": "code",
   "execution_count": null,
   "metadata": {},
   "outputs": [],
   "source": [
    "results = model.run_recursion(state0=0, state_variance0=1e5, sigma_eps2=model.sigma_eps2, sigma_nu2=model.sigma_nu2)\n",
    "model.plot_model(results, y, x)"
   ]
  }
 ],
 "metadata": {
  "kernelspec": {
   "display_name": "Python 3",
   "language": "python",
   "name": "python3"
  },
  "language_info": {
   "codemirror_mode": {
    "name": "ipython",
    "version": 3
   },
   "file_extension": ".py",
   "mimetype": "text/x-python",
   "name": "python",
   "nbconvert_exporter": "python",
   "pygments_lexer": "ipython3",
   "version": "3.5.6"
  }
 },
 "nbformat": 4,
 "nbformat_minor": 4
}
